{
 "cells": [
  {
   "cell_type": "markdown",
   "id": "9b3ab9e2-bc3f-4db2-bc0f-124bce0fdbc8",
   "metadata": {},
   "source": [
    "# Data Science Tools and Ecosystem"
   ]
  },
  {
   "cell_type": "markdown",
   "id": "df9283e3-fe32-4250-a1d5-e50f3659780a",
   "metadata": {},
   "source": [
    "In this notebook, Data Science Tools and Ecosystem are summarized."
   ]
  },
  {
   "cell_type": "markdown",
   "id": "27ea8fc7-ca36-4f5b-ac2a-93826fd40c8d",
   "metadata": {},
   "source": [
    "**Objectives:** \n",
    "\n",
    "- List popular languages for Data Science\n",
    "\n",
    "- List popular libraries for Data Science\n",
    "\n",
    "- List popular tools for Data Science\n",
    "\n"
   ]
  },
  {
   "cell_type": "markdown",
   "id": "1275f76d-e2db-40bd-87f9-60c1431873e4",
   "metadata": {},
   "source": [
    "Some of the popular languages that Data Scientists use are:\n",
    "1. Python\n",
    "2. R\n",
    "3. Java\n",
    "4. SQL\n",
    "5. Julia"
   ]
  },
  {
   "cell_type": "markdown",
   "id": "a40c199f-8e25-4ffb-a5bc-41b181c1ebf8",
   "metadata": {},
   "source": [
    "Some of the commonly used libraries used by Data Scientists include:\n",
    "1. Pandas\n",
    "2. Plotly\n",
    "3. Lattice \n",
    "4. TensorFlow\n"
   ]
  },
  {
   "cell_type": "markdown",
   "id": "e8e50604-51fb-4966-afdb-fd10f697d36f",
   "metadata": {},
   "source": [
    "|Data Science Tools|\n",
    "|------------------|\n",
    "|Anaconda|\n",
    "|RStudio|\n",
    "|Google Colaboratory|\n",
    " "
   ]
  },
  {
   "cell_type": "markdown",
   "id": "10dd2bd5-0656-4532-a8b3-b3e2976ba7c5",
   "metadata": {},
   "source": [
    "### Below are a few examples of evaluating arithmetic expressions in Python"
   ]
  },
  {
   "cell_type": "code",
   "execution_count": 35,
   "id": "19ea012c-4b57-4a7b-8e1e-0b59f3a70ba0",
   "metadata": {},
   "outputs": [],
   "source": [
    "# This a simple arithmetic expression to mutiply then add integers"
   ]
  },
  {
   "cell_type": "code",
   "execution_count": 37,
   "id": "0e907307-5f4b-4e35-94c2-b5a975b5cdc0",
   "metadata": {},
   "outputs": [
    {
     "data": {
      "text/plain": [
       "17"
      ]
     },
     "execution_count": 37,
     "metadata": {},
     "output_type": "execute_result"
    }
   ],
   "source": [
    "(3*4)+5"
   ]
  },
  {
   "cell_type": "markdown",
   "id": "fb8b4341-e1f7-4030-8edc-eb1bd6aa3725",
   "metadata": {},
   "source": [
    "#This will convert 200 minutes to hours by diving by 60"
   ]
  },
  {
   "cell_type": "code",
   "execution_count": 9,
   "id": "931fc836-f676-4576-9e02-c139a7d8864c",
   "metadata": {},
   "outputs": [
    {
     "data": {
      "text/plain": [
       "3"
      ]
     },
     "execution_count": 9,
     "metadata": {},
     "output_type": "execute_result"
    }
   ],
   "source": [
    "200//60"
   ]
  },
  {
   "cell_type": "markdown",
   "id": "794c0546-b6d5-4e86-a64c-b9a8bb931a0b",
   "metadata": {},
   "source": [
    "## Author\n",
    "Tetyana Bevza\n"
   ]
  },
  {
   "cell_type": "code",
   "execution_count": null,
   "id": "7db313aa-436c-4499-b076-d89646b431af",
   "metadata": {},
   "outputs": [],
   "source": []
  }
 ],
 "metadata": {
  "kernelspec": {
   "display_name": "Python 3 (ipykernel)",
   "language": "python",
   "name": "python3"
  },
  "language_info": {
   "codemirror_mode": {
    "name": "ipython",
    "version": 3
   },
   "file_extension": ".py",
   "mimetype": "text/x-python",
   "name": "python",
   "nbconvert_exporter": "python",
   "pygments_lexer": "ipython3",
   "version": "3.12.4"
  }
 },
 "nbformat": 4,
 "nbformat_minor": 5
}
